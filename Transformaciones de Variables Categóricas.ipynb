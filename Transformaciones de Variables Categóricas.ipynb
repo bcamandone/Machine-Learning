{
 "cells": [
  {
   "cell_type": "markdown",
   "metadata": {},
   "source": [
    "### Transformaciones de Variables Categóricas"
   ]
  },
  {
   "cell_type": "code",
   "execution_count": 53,
   "metadata": {
    "id": "MMHzykyQfQQN",
    "outputId": "709fd4c9-4e33-4618-c445-a392d0c824bf"
   },
   "outputs": [
    {
     "data": {
      "text/html": [
       "<div>\n",
       "<style scoped>\n",
       "    .dataframe tbody tr th:only-of-type {\n",
       "        vertical-align: middle;\n",
       "    }\n",
       "\n",
       "    .dataframe tbody tr th {\n",
       "        vertical-align: top;\n",
       "    }\n",
       "\n",
       "    .dataframe thead th {\n",
       "        text-align: right;\n",
       "    }\n",
       "</style>\n",
       "<table border=\"1\" class=\"dataframe\">\n",
       "  <thead>\n",
       "    <tr style=\"text-align: right;\">\n",
       "      <th></th>\n",
       "      <th>edad</th>\n",
       "      <th>genero</th>\n",
       "      <th>clase</th>\n",
       "    </tr>\n",
       "  </thead>\n",
       "  <tbody>\n",
       "    <tr>\n",
       "      <th>0</th>\n",
       "      <td>20</td>\n",
       "      <td>Masculino</td>\n",
       "      <td>Primera</td>\n",
       "    </tr>\n",
       "    <tr>\n",
       "      <th>1</th>\n",
       "      <td>30</td>\n",
       "      <td>Masculino</td>\n",
       "      <td>Segunda</td>\n",
       "    </tr>\n",
       "    <tr>\n",
       "      <th>2</th>\n",
       "      <td>40</td>\n",
       "      <td>Femenino</td>\n",
       "      <td>Segunda</td>\n",
       "    </tr>\n",
       "    <tr>\n",
       "      <th>3</th>\n",
       "      <td>50</td>\n",
       "      <td>Femenino</td>\n",
       "      <td>Tercera</td>\n",
       "    </tr>\n",
       "  </tbody>\n",
       "</table>\n",
       "</div>"
      ],
      "text/plain": [
       "   edad     genero    clase\n",
       "0    20  Masculino  Primera\n",
       "1    30  Masculino  Segunda\n",
       "2    40   Femenino  Segunda\n",
       "3    50   Femenino  Tercera"
      ]
     },
     "execution_count": 53,
     "metadata": {},
     "output_type": "execute_result"
    }
   ],
   "source": [
    "import pandas as pd\n",
    "\n",
    "df = pd.DataFrame(data={\n",
    "    'edad': [20, 30, 40, 50],\n",
    "    'genero': ['Masculino', 'Masculino', 'Femenino', 'Femenino'],   \n",
    "    'clase': ['Primera', 'Segunda', 'Segunda','Tercera',]\n",
    "})\n",
    "\n",
    "df"
   ]
  },
  {
   "cell_type": "markdown",
   "metadata": {
    "id": "CVKT04n2fQQO"
   },
   "source": [
    "<hr>\n",
    "\n",
    "\n",
    "# <a name=\"M1\">1. Codificación Binaria</a>\n",
    "\n",
    "\n",
    "* Vamos a transformar la variable genero a una variable binaria.\n",
    "\n",
    "\n",
    "* Esto lo podemos hacer con la clase **\"LabelBinarizer()\"** de scikit-learn de la siguiente manera:"
   ]
  },
  {
   "cell_type": "code",
   "execution_count": 54,
   "metadata": {
    "id": "EuOo4Us6fQQO",
    "outputId": "fac92611-04c6-40ce-9434-314ce62a761b"
   },
   "outputs": [
    {
     "data": {
      "text/html": [
       "<div>\n",
       "<style scoped>\n",
       "    .dataframe tbody tr th:only-of-type {\n",
       "        vertical-align: middle;\n",
       "    }\n",
       "\n",
       "    .dataframe tbody tr th {\n",
       "        vertical-align: top;\n",
       "    }\n",
       "\n",
       "    .dataframe thead th {\n",
       "        text-align: right;\n",
       "    }\n",
       "</style>\n",
       "<table border=\"1\" class=\"dataframe\">\n",
       "  <thead>\n",
       "    <tr style=\"text-align: right;\">\n",
       "      <th></th>\n",
       "      <th>genero</th>\n",
       "      <th>genero_binario</th>\n",
       "    </tr>\n",
       "  </thead>\n",
       "  <tbody>\n",
       "    <tr>\n",
       "      <th>0</th>\n",
       "      <td>Masculino</td>\n",
       "      <td>1</td>\n",
       "    </tr>\n",
       "    <tr>\n",
       "      <th>1</th>\n",
       "      <td>Masculino</td>\n",
       "      <td>1</td>\n",
       "    </tr>\n",
       "    <tr>\n",
       "      <th>2</th>\n",
       "      <td>Femenino</td>\n",
       "      <td>0</td>\n",
       "    </tr>\n",
       "    <tr>\n",
       "      <th>3</th>\n",
       "      <td>Femenino</td>\n",
       "      <td>0</td>\n",
       "    </tr>\n",
       "  </tbody>\n",
       "</table>\n",
       "</div>"
      ],
      "text/plain": [
       "      genero  genero_binario\n",
       "0  Masculino               1\n",
       "1  Masculino               1\n",
       "2   Femenino               0\n",
       "3   Femenino               0"
      ]
     },
     "execution_count": 54,
     "metadata": {},
     "output_type": "execute_result"
    }
   ],
   "source": [
    "from sklearn.preprocessing import LabelBinarizer\n",
    "\n",
    "lb = LabelBinarizer()\n",
    "df['genero_binario'] = lb.fit_transform(df['genero'])\n",
    "df[['genero', 'genero_binario']]"
   ]
  },
  {
   "cell_type": "markdown",
   "metadata": {
    "id": "FnW2yQtvfQQO"
   },
   "source": [
    "<hr>\n",
    "\n",
    "\n",
    "# <a name=\"M2\">2. Codificación One Hot Encode</a>\n",
    "\n"
   ]
  },
  {
   "cell_type": "code",
   "execution_count": 55,
   "metadata": {
    "id": "xDu0ecPYfQQO",
    "outputId": "a93c60f1-6aa2-4768-b075-3ece2fa05956"
   },
   "outputs": [],
   "source": [
    "from sklearn.preprocessing import OneHotEncoder"
   ]
  },
  {
   "cell_type": "code",
   "execution_count": 56,
   "metadata": {},
   "outputs": [
    {
     "data": {
      "text/plain": [
       "array([[0., 0.],\n",
       "       [1., 0.],\n",
       "       [1., 0.],\n",
       "       [0., 1.]])"
      ]
     },
     "execution_count": 56,
     "metadata": {},
     "output_type": "execute_result"
    }
   ],
   "source": [
    "ohe = OneHotEncoder(drop='first')\n",
    "x = df[['clase']].values\n",
    "x_one_hot = ohe.fit_transform(x).toarray()\n",
    "x_one_hot"
   ]
  },
  {
   "cell_type": "code",
   "execution_count": 57,
   "metadata": {},
   "outputs": [
    {
     "data": {
      "text/html": [
       "<div>\n",
       "<style scoped>\n",
       "    .dataframe tbody tr th:only-of-type {\n",
       "        vertical-align: middle;\n",
       "    }\n",
       "\n",
       "    .dataframe tbody tr th {\n",
       "        vertical-align: top;\n",
       "    }\n",
       "\n",
       "    .dataframe thead th {\n",
       "        text-align: right;\n",
       "    }\n",
       "</style>\n",
       "<table border=\"1\" class=\"dataframe\">\n",
       "  <thead>\n",
       "    <tr style=\"text-align: right;\">\n",
       "      <th></th>\n",
       "      <th>edad</th>\n",
       "      <th>genero</th>\n",
       "      <th>clase</th>\n",
       "      <th>genero_binario</th>\n",
       "      <th>clase_0</th>\n",
       "      <th>clase_1</th>\n",
       "    </tr>\n",
       "  </thead>\n",
       "  <tbody>\n",
       "    <tr>\n",
       "      <th>0</th>\n",
       "      <td>20</td>\n",
       "      <td>Masculino</td>\n",
       "      <td>Primera</td>\n",
       "      <td>1</td>\n",
       "      <td>0.0</td>\n",
       "      <td>0.0</td>\n",
       "    </tr>\n",
       "    <tr>\n",
       "      <th>1</th>\n",
       "      <td>30</td>\n",
       "      <td>Masculino</td>\n",
       "      <td>Segunda</td>\n",
       "      <td>1</td>\n",
       "      <td>1.0</td>\n",
       "      <td>0.0</td>\n",
       "    </tr>\n",
       "    <tr>\n",
       "      <th>2</th>\n",
       "      <td>40</td>\n",
       "      <td>Femenino</td>\n",
       "      <td>Segunda</td>\n",
       "      <td>0</td>\n",
       "      <td>1.0</td>\n",
       "      <td>0.0</td>\n",
       "    </tr>\n",
       "    <tr>\n",
       "      <th>3</th>\n",
       "      <td>50</td>\n",
       "      <td>Femenino</td>\n",
       "      <td>Tercera</td>\n",
       "      <td>0</td>\n",
       "      <td>0.0</td>\n",
       "      <td>1.0</td>\n",
       "    </tr>\n",
       "  </tbody>\n",
       "</table>\n",
       "</div>"
      ],
      "text/plain": [
       "   edad     genero    clase  genero_binario  clase_0  clase_1\n",
       "0    20  Masculino  Primera               1      0.0      0.0\n",
       "1    30  Masculino  Segunda               1      1.0      0.0\n",
       "2    40   Femenino  Segunda               0      1.0      0.0\n",
       "3    50   Femenino  Tercera               0      0.0      1.0"
      ]
     },
     "execution_count": 57,
     "metadata": {},
     "output_type": "execute_result"
    }
   ],
   "source": [
    "df_one_hot = pd.DataFrame(x_one_hot, columns = [\"clase_\"+str(int(i)) for i in range(x_one_hot.shape[1])])\n",
    "df_all = pd.concat([df, df_one_hot], axis=1)\n",
    "df_all"
   ]
  },
  {
   "cell_type": "markdown",
   "metadata": {},
   "source": [
    "La \"trampa de las variables dummy\" es un problema que puede ocurrir cuando utilizamos variables categóricas en un modelo de regresión lineal (u otros modelos) y las convertimos en variables dummy o indicadoras. Las variables dummy se utilizan para transformar una variable categórica en varias columnas binarias (0 o 1), permitiendo que los modelos de regresión trabajen con variables que no son numéricas.\n",
    "\n",
    "¿Qué es una variable dummy?\n",
    "Cuando tienes una variable categórica (como \"color\" con valores \"rojo\", \"verde\", y \"azul\"), necesitas transformarla en varias columnas para que el modelo pueda procesarlas. Esto se hace con variables dummy. Si \"color\" tiene tres valores, las variables dummy se verían así:\n",
    "\n",
    "\"rojo\" → (1, 0, 0)\n",
    "\"verde\" → (0, 1, 0)\n",
    "\"azul\" → (0, 0, 1)"
   ]
  },
  {
   "cell_type": "markdown",
   "metadata": {},
   "source": [
    "#### ¿Por qué eliminar una categoría?\n",
    "\n",
    "Esto evita que haya redundancia entre las variables. Por ejemplo, si ya sabes que una fila no pertenece a las clases \"Segunda\" ni \"Tercera\", automáticamente sabes que pertenece a \"Primera\". Esto soluciona el problema de la multicolinealidad, mejorando la estabilidad del modelo."
   ]
  },
  {
   "cell_type": "markdown",
   "metadata": {
    "id": "WXvFp08QfQQP"
   },
   "source": [
    "### Codificación One Hot Encode en Pandas\n",
    "\n",
    "\n",
    "* Esta transformación también nos la permite hacer la librería de Pandas de la siguiente manera:"
   ]
  },
  {
   "cell_type": "code",
   "execution_count": 58,
   "metadata": {},
   "outputs": [
    {
     "data": {
      "text/html": [
       "<div>\n",
       "<style scoped>\n",
       "    .dataframe tbody tr th:only-of-type {\n",
       "        vertical-align: middle;\n",
       "    }\n",
       "\n",
       "    .dataframe tbody tr th {\n",
       "        vertical-align: top;\n",
       "    }\n",
       "\n",
       "    .dataframe thead th {\n",
       "        text-align: right;\n",
       "    }\n",
       "</style>\n",
       "<table border=\"1\" class=\"dataframe\">\n",
       "  <thead>\n",
       "    <tr style=\"text-align: right;\">\n",
       "      <th></th>\n",
       "      <th>edad</th>\n",
       "      <th>genero</th>\n",
       "      <th>genero_binario</th>\n",
       "      <th>clase_Segunda</th>\n",
       "      <th>clase_Tercera</th>\n",
       "    </tr>\n",
       "  </thead>\n",
       "  <tbody>\n",
       "    <tr>\n",
       "      <th>0</th>\n",
       "      <td>20</td>\n",
       "      <td>Masculino</td>\n",
       "      <td>1</td>\n",
       "      <td>0</td>\n",
       "      <td>0</td>\n",
       "    </tr>\n",
       "    <tr>\n",
       "      <th>1</th>\n",
       "      <td>30</td>\n",
       "      <td>Masculino</td>\n",
       "      <td>1</td>\n",
       "      <td>1</td>\n",
       "      <td>0</td>\n",
       "    </tr>\n",
       "    <tr>\n",
       "      <th>2</th>\n",
       "      <td>40</td>\n",
       "      <td>Femenino</td>\n",
       "      <td>0</td>\n",
       "      <td>1</td>\n",
       "      <td>0</td>\n",
       "    </tr>\n",
       "    <tr>\n",
       "      <th>3</th>\n",
       "      <td>50</td>\n",
       "      <td>Femenino</td>\n",
       "      <td>0</td>\n",
       "      <td>0</td>\n",
       "      <td>1</td>\n",
       "    </tr>\n",
       "  </tbody>\n",
       "</table>\n",
       "</div>"
      ],
      "text/plain": [
       "   edad     genero  genero_binario  clase_Segunda  clase_Tercera\n",
       "0    20  Masculino               1              0              0\n",
       "1    30  Masculino               1              1              0\n",
       "2    40   Femenino               0              1              0\n",
       "3    50   Femenino               0              0              1"
      ]
     },
     "execution_count": 58,
     "metadata": {},
     "output_type": "execute_result"
    }
   ],
   "source": [
    "import pandas as pd\n",
    "\n",
    "\n",
    "df_encoded = pd.get_dummies(df, columns=['clase'], drop_first=True)\n",
    "\n",
    "# Mostrar el DataFrame con las nuevas columnas\n",
    "df_encoded\n"
   ]
  },
  {
   "cell_type": "markdown",
   "metadata": {
    "id": "fo1i2yWGfQQQ"
   },
   "source": [
    "<hr>\n",
    "\n",
    "\n",
    "\n",
    "# <a name=\"M3\">3. Variables con un orden natural</a>\n",
    "\n",
    "\n"
   ]
  },
  {
   "cell_type": "code",
   "execution_count": 59,
   "metadata": {
    "id": "EiLYj-HDfQQQ",
    "outputId": "8b4f5074-dcf0-4669-d04f-25e8dd63a7a2"
   },
   "outputs": [],
   "source": [
    "df = pd.DataFrame({\n",
    "    'nombre': ['Juan', 'María', 'Luis', 'Ana'],\n",
    "    'nivel_educativo': ['Primaria', 'Posgrado', 'Secundaria', 'Pregrado']\n",
    "})\n",
    "\n"
   ]
  },
  {
   "cell_type": "code",
   "execution_count": 60,
   "metadata": {},
   "outputs": [
    {
     "data": {
      "text/html": [
       "<div>\n",
       "<style scoped>\n",
       "    .dataframe tbody tr th:only-of-type {\n",
       "        vertical-align: middle;\n",
       "    }\n",
       "\n",
       "    .dataframe tbody tr th {\n",
       "        vertical-align: top;\n",
       "    }\n",
       "\n",
       "    .dataframe thead th {\n",
       "        text-align: right;\n",
       "    }\n",
       "</style>\n",
       "<table border=\"1\" class=\"dataframe\">\n",
       "  <thead>\n",
       "    <tr style=\"text-align: right;\">\n",
       "      <th></th>\n",
       "      <th>nombre</th>\n",
       "      <th>nivel_educativo</th>\n",
       "      <th>nivel_educativo_encoded</th>\n",
       "    </tr>\n",
       "  </thead>\n",
       "  <tbody>\n",
       "    <tr>\n",
       "      <th>0</th>\n",
       "      <td>Juan</td>\n",
       "      <td>Primaria</td>\n",
       "      <td>0</td>\n",
       "    </tr>\n",
       "    <tr>\n",
       "      <th>1</th>\n",
       "      <td>María</td>\n",
       "      <td>Posgrado</td>\n",
       "      <td>3</td>\n",
       "    </tr>\n",
       "    <tr>\n",
       "      <th>2</th>\n",
       "      <td>Luis</td>\n",
       "      <td>Secundaria</td>\n",
       "      <td>1</td>\n",
       "    </tr>\n",
       "    <tr>\n",
       "      <th>3</th>\n",
       "      <td>Ana</td>\n",
       "      <td>Pregrado</td>\n",
       "      <td>2</td>\n",
       "    </tr>\n",
       "  </tbody>\n",
       "</table>\n",
       "</div>"
      ],
      "text/plain": [
       "  nombre nivel_educativo  nivel_educativo_encoded\n",
       "0   Juan        Primaria                        0\n",
       "1  María        Posgrado                        3\n",
       "2   Luis      Secundaria                        1\n",
       "3    Ana        Pregrado                        2"
      ]
     },
     "execution_count": 60,
     "metadata": {},
     "output_type": "execute_result"
    }
   ],
   "source": [
    "# Definir el orden correcto de las categorías\n",
    "orden_nivel_educativo = ['Primaria', 'Secundaria', 'Pregrado', 'Posgrado']\n",
    "\n",
    "# Convertir la columna 'nivel_educativo' en una variable categórica con el orden definido\n",
    "df['nivel_educativo'] = pd.Categorical(df['nivel_educativo'], categories=orden_nivel_educativo, ordered=True)\n",
    "\n",
    "# Mapear las categorías al número correspondiente según su orden\n",
    "df['nivel_educativo_encoded'] = df['nivel_educativo'].cat.codes\n",
    "\n",
    "# Mostrar el DataFrame con la columna codificada\n",
    "df"
   ]
  }
 ],
 "metadata": {
  "colab": {
   "provenance": []
  },
  "kernelspec": {
   "display_name": "Python 3 (ipykernel)",
   "language": "python",
   "name": "python3"
  },
  "language_info": {
   "codemirror_mode": {
    "name": "ipython",
    "version": 3
   },
   "file_extension": ".py",
   "mimetype": "text/x-python",
   "name": "python",
   "nbconvert_exporter": "python",
   "pygments_lexer": "ipython3",
   "version": "3.11.4"
  }
 },
 "nbformat": 4,
 "nbformat_minor": 1
}
