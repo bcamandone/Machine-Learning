{
 "cells": [
  {
   "cell_type": "markdown",
   "id": "f9ea4a1d",
   "metadata": {},
   "source": [
    "# Feature scaling"
   ]
  },
  {
   "cell_type": "markdown",
   "id": "cda048f1",
   "metadata": {},
   "source": [
    "***¿Por qué es bueno escalar?*** Existen modelos sensibles a las escalas como la regresión logística, máquinas de soporte vectorial (SVM), redes neuronales y algoritmos basados en la distancia (como KNN).\n",
    "\n",
    "Si las características tienen diferentes rangos, los modelos pueden dar más importancia a las características con valores más grandes."
   ]
  },
  {
   "cell_type": "code",
   "execution_count": 6,
   "id": "b220a289",
   "metadata": {},
   "outputs": [],
   "source": [
    "from sklearn.preprocessing import StandardScaler, MinMaxScaler, RobustScaler\n",
    "import numpy as np\n",
    "import pandas as pd\n",
    "from sklearn.datasets import load_iris\n",
    "from sklearn.model_selection import train_test_split"
   ]
  },
  {
   "cell_type": "code",
   "execution_count": 7,
   "id": "852d1e24",
   "metadata": {},
   "outputs": [],
   "source": [
    "# Cargar el dataset iris\n",
    "iris = load_iris()\n",
    "X = pd.DataFrame(iris.data, columns=iris.feature_names)\n",
    "y = iris.target\n",
    "\n",
    "# Dividir el dataset en entrenamiento y prueba\n",
    "X_train, X_test, y_train, y_test = train_test_split(X, y, test_size=0.3, random_state=42)\n"
   ]
  },
  {
   "cell_type": "markdown",
   "id": "8f934e4f",
   "metadata": {},
   "source": [
    "## StandardScaler"
   ]
  },
  {
   "cell_type": "markdown",
   "id": "ddb7a526",
   "metadata": {},
   "source": [
    "### $\\frac{x_i - \\mu}{\\sigma}$ $\\mu$: valor medio, $\\sigma$: desviación estándar"
   ]
  },
  {
   "cell_type": "markdown",
   "id": "baa1668b",
   "metadata": {},
   "source": [
    "Cada valor de la característica X se le resta la media μ y el resultante se divide por la desviación estándar σ. \n",
    "\n",
    "Es útil cuando los datos tienen una distribución que se asemeja a una distribución normal.\n"
   ]
  },
  {
   "cell_type": "code",
   "execution_count": 8,
   "id": "d3f80fe2",
   "metadata": {},
   "outputs": [
    {
     "name": "stdout",
     "output_type": "stream",
     "text": [
      "Primeras filas de X_train estandarizado:\n"
     ]
    },
    {
     "data": {
      "text/html": [
       "<div>\n",
       "<style scoped>\n",
       "    .dataframe tbody tr th:only-of-type {\n",
       "        vertical-align: middle;\n",
       "    }\n",
       "\n",
       "    .dataframe tbody tr th {\n",
       "        vertical-align: top;\n",
       "    }\n",
       "\n",
       "    .dataframe thead th {\n",
       "        text-align: right;\n",
       "    }\n",
       "</style>\n",
       "<table border=\"1\" class=\"dataframe\">\n",
       "  <thead>\n",
       "    <tr style=\"text-align: right;\">\n",
       "      <th></th>\n",
       "      <th>sepal length (cm)</th>\n",
       "      <th>sepal width (cm)</th>\n",
       "      <th>petal length (cm)</th>\n",
       "      <th>petal width (cm)</th>\n",
       "    </tr>\n",
       "  </thead>\n",
       "  <tbody>\n",
       "    <tr>\n",
       "      <th>0</th>\n",
       "      <td>-0.413416</td>\n",
       "      <td>-1.462003</td>\n",
       "      <td>-0.099511</td>\n",
       "      <td>-0.323398</td>\n",
       "    </tr>\n",
       "    <tr>\n",
       "      <th>1</th>\n",
       "      <td>0.551222</td>\n",
       "      <td>-0.502563</td>\n",
       "      <td>0.717703</td>\n",
       "      <td>0.353032</td>\n",
       "    </tr>\n",
       "    <tr>\n",
       "      <th>2</th>\n",
       "      <td>0.671802</td>\n",
       "      <td>0.217016</td>\n",
       "      <td>0.951192</td>\n",
       "      <td>0.758890</td>\n",
       "    </tr>\n",
       "    <tr>\n",
       "      <th>3</th>\n",
       "      <td>0.912961</td>\n",
       "      <td>-0.022844</td>\n",
       "      <td>0.309096</td>\n",
       "      <td>0.217746</td>\n",
       "    </tr>\n",
       "    <tr>\n",
       "      <th>4</th>\n",
       "      <td>1.636440</td>\n",
       "      <td>1.416315</td>\n",
       "      <td>1.301427</td>\n",
       "      <td>1.705891</td>\n",
       "    </tr>\n",
       "  </tbody>\n",
       "</table>\n",
       "</div>"
      ],
      "text/plain": [
       "   sepal length (cm)  sepal width (cm)  petal length (cm)  petal width (cm)\n",
       "0          -0.413416         -1.462003          -0.099511         -0.323398\n",
       "1           0.551222         -0.502563           0.717703          0.353032\n",
       "2           0.671802          0.217016           0.951192          0.758890\n",
       "3           0.912961         -0.022844           0.309096          0.217746\n",
       "4           1.636440          1.416315           1.301427          1.705891"
      ]
     },
     "execution_count": 8,
     "metadata": {},
     "output_type": "execute_result"
    }
   ],
   "source": [
    "# Estandarización (media 0, desviación estándar 1)\n",
    "scaler_standard = StandardScaler()\n",
    "X_train_standard = scaler_standard.fit_transform(X_train)\n",
    "X_test_standard = scaler_standard.transform(X_test)\n",
    "\n",
    "print(\"Primeras filas de X_train estandarizado:\")\n",
    "pd.DataFrame(X_train_standard, columns=X.columns).head()\n"
   ]
  },
  {
   "cell_type": "markdown",
   "id": "22aec1a6",
   "metadata": {},
   "source": [
    "## MinMaxScaler $\\frac{x_i - min(x)}{max(x) - min(x)}$"
   ]
  },
  {
   "cell_type": "markdown",
   "id": "273fc8f4",
   "metadata": {},
   "source": [
    "Con el escalador min-max, podemos transformar y escalar nuestros valores de características de tal manera que cada valor está dentro del rango de [0, 1]. \n",
    "\n",
    "Sin embargo, la clase MinMaxScaler en scikit-learn también le permite especificar su propio límite superior e inferior en el rango de valores escalados utilizando la variable feature_range. \n"
   ]
  },
  {
   "cell_type": "code",
   "execution_count": 9,
   "id": "eef1ae7a",
   "metadata": {},
   "outputs": [
    {
     "name": "stdout",
     "output_type": "stream",
     "text": [
      "\n",
      "Primeras filas de X_train escalado con Min-Max:\n"
     ]
    },
    {
     "data": {
      "text/html": [
       "<div>\n",
       "<style scoped>\n",
       "    .dataframe tbody tr th:only-of-type {\n",
       "        vertical-align: middle;\n",
       "    }\n",
       "\n",
       "    .dataframe tbody tr th {\n",
       "        vertical-align: top;\n",
       "    }\n",
       "\n",
       "    .dataframe thead th {\n",
       "        text-align: right;\n",
       "    }\n",
       "</style>\n",
       "<table border=\"1\" class=\"dataframe\">\n",
       "  <thead>\n",
       "    <tr style=\"text-align: right;\">\n",
       "      <th></th>\n",
       "      <th>sepal length (cm)</th>\n",
       "      <th>sepal width (cm)</th>\n",
       "      <th>petal length (cm)</th>\n",
       "      <th>petal width (cm)</th>\n",
       "    </tr>\n",
       "  </thead>\n",
       "  <tbody>\n",
       "    <tr>\n",
       "      <th>0</th>\n",
       "      <td>0.352941</td>\n",
       "      <td>0.181818</td>\n",
       "      <td>0.464286</td>\n",
       "      <td>0.375000</td>\n",
       "    </tr>\n",
       "    <tr>\n",
       "      <th>1</th>\n",
       "      <td>0.588235</td>\n",
       "      <td>0.363636</td>\n",
       "      <td>0.714286</td>\n",
       "      <td>0.583333</td>\n",
       "    </tr>\n",
       "    <tr>\n",
       "      <th>2</th>\n",
       "      <td>0.617647</td>\n",
       "      <td>0.500000</td>\n",
       "      <td>0.785714</td>\n",
       "      <td>0.708333</td>\n",
       "    </tr>\n",
       "    <tr>\n",
       "      <th>3</th>\n",
       "      <td>0.676471</td>\n",
       "      <td>0.454545</td>\n",
       "      <td>0.589286</td>\n",
       "      <td>0.541667</td>\n",
       "    </tr>\n",
       "    <tr>\n",
       "      <th>4</th>\n",
       "      <td>0.852941</td>\n",
       "      <td>0.727273</td>\n",
       "      <td>0.892857</td>\n",
       "      <td>1.000000</td>\n",
       "    </tr>\n",
       "  </tbody>\n",
       "</table>\n",
       "</div>"
      ],
      "text/plain": [
       "   sepal length (cm)  sepal width (cm)  petal length (cm)  petal width (cm)\n",
       "0           0.352941          0.181818           0.464286          0.375000\n",
       "1           0.588235          0.363636           0.714286          0.583333\n",
       "2           0.617647          0.500000           0.785714          0.708333\n",
       "3           0.676471          0.454545           0.589286          0.541667\n",
       "4           0.852941          0.727273           0.892857          1.000000"
      ]
     },
     "execution_count": 9,
     "metadata": {},
     "output_type": "execute_result"
    }
   ],
   "source": [
    "# Escalado Min-Max (reescala características al rango [0, 1])\n",
    "scaler_minmax = MinMaxScaler()\n",
    "X_train_minmax = scaler_minmax.fit_transform(X_train)\n",
    "X_test_minmax = scaler_minmax.transform(X_test)\n",
    "\n",
    "print(\"\\nPrimeras filas de X_train escalado con Min-Max:\")\n",
    "pd.DataFrame(X_train_minmax, columns=X.columns).head()\n"
   ]
  },
  {
   "cell_type": "markdown",
   "id": "152864fc",
   "metadata": {},
   "source": [
    "## RobustScaler $\\frac{x_i - mediana(x)}{IQR_{(1,3)}(x)}$"
   ]
  },
  {
   "cell_type": "markdown",
   "id": "ac12c200",
   "metadata": {},
   "source": [
    "Utiliza la mediana y el rango intercuartílico (IQR) para escalar las características, lo que lo hace más resistente a los outliers."
   ]
  },
  {
   "cell_type": "code",
   "execution_count": 10,
   "id": "a30623a4",
   "metadata": {},
   "outputs": [
    {
     "name": "stdout",
     "output_type": "stream",
     "text": [
      "\n",
      "Primeras filas de X_train escalado con RobustScaler:\n"
     ]
    },
    {
     "data": {
      "text/html": [
       "<div>\n",
       "<style scoped>\n",
       "    .dataframe tbody tr th:only-of-type {\n",
       "        vertical-align: middle;\n",
       "    }\n",
       "\n",
       "    .dataframe tbody tr th {\n",
       "        vertical-align: top;\n",
       "    }\n",
       "\n",
       "    .dataframe thead th {\n",
       "        text-align: right;\n",
       "    }\n",
       "</style>\n",
       "<table border=\"1\" class=\"dataframe\">\n",
       "  <thead>\n",
       "    <tr style=\"text-align: right;\">\n",
       "      <th></th>\n",
       "      <th>sepal length (cm)</th>\n",
       "      <th>sepal width (cm)</th>\n",
       "      <th>petal length (cm)</th>\n",
       "      <th>petal width (cm)</th>\n",
       "    </tr>\n",
       "  </thead>\n",
       "  <tbody>\n",
       "    <tr>\n",
       "      <th>0</th>\n",
       "      <td>-0.230769</td>\n",
       "      <td>-1.2</td>\n",
       "      <td>-0.176471</td>\n",
       "      <td>-0.214286</td>\n",
       "    </tr>\n",
       "    <tr>\n",
       "      <th>1</th>\n",
       "      <td>0.384615</td>\n",
       "      <td>-0.4</td>\n",
       "      <td>0.235294</td>\n",
       "      <td>0.142857</td>\n",
       "    </tr>\n",
       "    <tr>\n",
       "      <th>2</th>\n",
       "      <td>0.461538</td>\n",
       "      <td>0.2</td>\n",
       "      <td>0.352941</td>\n",
       "      <td>0.357143</td>\n",
       "    </tr>\n",
       "    <tr>\n",
       "      <th>3</th>\n",
       "      <td>0.615385</td>\n",
       "      <td>0.0</td>\n",
       "      <td>0.029412</td>\n",
       "      <td>0.071429</td>\n",
       "    </tr>\n",
       "    <tr>\n",
       "      <th>4</th>\n",
       "      <td>1.076923</td>\n",
       "      <td>1.2</td>\n",
       "      <td>0.529412</td>\n",
       "      <td>0.857143</td>\n",
       "    </tr>\n",
       "  </tbody>\n",
       "</table>\n",
       "</div>"
      ],
      "text/plain": [
       "   sepal length (cm)  sepal width (cm)  petal length (cm)  petal width (cm)\n",
       "0          -0.230769              -1.2          -0.176471         -0.214286\n",
       "1           0.384615              -0.4           0.235294          0.142857\n",
       "2           0.461538               0.2           0.352941          0.357143\n",
       "3           0.615385               0.0           0.029412          0.071429\n",
       "4           1.076923               1.2           0.529412          0.857143"
      ]
     },
     "execution_count": 10,
     "metadata": {},
     "output_type": "execute_result"
    }
   ],
   "source": [
    "# Escalado robusto \n",
    "scaler_robust = RobustScaler()\n",
    "X_train_robust = scaler_robust.fit_transform(X_train)\n",
    "X_test_robust = scaler_robust.transform(X_test)\n",
    "\n",
    "print(\"\\nPrimeras filas de X_train escalado con RobustScaler:\")\n",
    "pd.DataFrame(X_train_robust, columns=X.columns).head()\n"
   ]
  }
 ],
 "metadata": {
  "kernelspec": {
   "display_name": "Python 3 (ipykernel)",
   "language": "python",
   "name": "python3"
  },
  "language_info": {
   "codemirror_mode": {
    "name": "ipython",
    "version": 3
   },
   "file_extension": ".py",
   "mimetype": "text/x-python",
   "name": "python",
   "nbconvert_exporter": "python",
   "pygments_lexer": "ipython3",
   "version": "3.11.4"
  }
 },
 "nbformat": 4,
 "nbformat_minor": 5
}
