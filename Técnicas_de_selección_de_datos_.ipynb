{
 "cells": [
  {
   "cell_type": "markdown",
   "id": "3f965b64",
   "metadata": {
    "id": "3f965b64"
   },
   "source": [
    "\n",
    "# Tecnicas de selección de datos"
   ]
  },
  {
   "cell_type": "code",
   "execution_count": 13,
   "id": "650c8c97",
   "metadata": {
    "id": "650c8c97"
   },
   "outputs": [],
   "source": [
    "# Importamos las librerías necesarias\n",
    "import numpy as np\n",
    "import pandas as pd\n",
    "from sklearn.model_selection import train_test_split, cross_val_score\n",
    "from sklearn.datasets import load_wine\n",
    "from sklearn.tree import DecisionTreeClassifier\n",
    "from sklearn.model_selection import cross_val_score, KFold, StratifiedKFold,ShuffleSplit,LeavePOut, LeaveOneOut\n"
   ]
  },
  {
   "cell_type": "code",
   "execution_count": 14,
   "id": "00b7620f",
   "metadata": {
    "colab": {
     "base_uri": "https://localhost:8080/",
     "height": 226
    },
    "id": "00b7620f",
    "outputId": "93053a8f-0405-4ddd-ce86-9887a55f6e15"
   },
   "outputs": [
    {
     "data": {
      "text/html": [
       "<div>\n",
       "<style scoped>\n",
       "    .dataframe tbody tr th:only-of-type {\n",
       "        vertical-align: middle;\n",
       "    }\n",
       "\n",
       "    .dataframe tbody tr th {\n",
       "        vertical-align: top;\n",
       "    }\n",
       "\n",
       "    .dataframe thead th {\n",
       "        text-align: right;\n",
       "    }\n",
       "</style>\n",
       "<table border=\"1\" class=\"dataframe\">\n",
       "  <thead>\n",
       "    <tr style=\"text-align: right;\">\n",
       "      <th></th>\n",
       "      <th>alcohol</th>\n",
       "      <th>malic_acid</th>\n",
       "      <th>ash</th>\n",
       "      <th>alcalinity_of_ash</th>\n",
       "      <th>magnesium</th>\n",
       "      <th>total_phenols</th>\n",
       "      <th>flavanoids</th>\n",
       "      <th>nonflavanoid_phenols</th>\n",
       "      <th>proanthocyanins</th>\n",
       "      <th>color_intensity</th>\n",
       "      <th>hue</th>\n",
       "      <th>od280/od315_of_diluted_wines</th>\n",
       "      <th>proline</th>\n",
       "      <th>target</th>\n",
       "    </tr>\n",
       "  </thead>\n",
       "  <tbody>\n",
       "    <tr>\n",
       "      <th>0</th>\n",
       "      <td>14.23</td>\n",
       "      <td>1.71</td>\n",
       "      <td>2.43</td>\n",
       "      <td>15.6</td>\n",
       "      <td>127.0</td>\n",
       "      <td>2.80</td>\n",
       "      <td>3.06</td>\n",
       "      <td>0.28</td>\n",
       "      <td>2.29</td>\n",
       "      <td>5.64</td>\n",
       "      <td>1.04</td>\n",
       "      <td>3.92</td>\n",
       "      <td>1065.0</td>\n",
       "      <td>0</td>\n",
       "    </tr>\n",
       "    <tr>\n",
       "      <th>1</th>\n",
       "      <td>13.20</td>\n",
       "      <td>1.78</td>\n",
       "      <td>2.14</td>\n",
       "      <td>11.2</td>\n",
       "      <td>100.0</td>\n",
       "      <td>2.65</td>\n",
       "      <td>2.76</td>\n",
       "      <td>0.26</td>\n",
       "      <td>1.28</td>\n",
       "      <td>4.38</td>\n",
       "      <td>1.05</td>\n",
       "      <td>3.40</td>\n",
       "      <td>1050.0</td>\n",
       "      <td>0</td>\n",
       "    </tr>\n",
       "    <tr>\n",
       "      <th>2</th>\n",
       "      <td>13.16</td>\n",
       "      <td>2.36</td>\n",
       "      <td>2.67</td>\n",
       "      <td>18.6</td>\n",
       "      <td>101.0</td>\n",
       "      <td>2.80</td>\n",
       "      <td>3.24</td>\n",
       "      <td>0.30</td>\n",
       "      <td>2.81</td>\n",
       "      <td>5.68</td>\n",
       "      <td>1.03</td>\n",
       "      <td>3.17</td>\n",
       "      <td>1185.0</td>\n",
       "      <td>0</td>\n",
       "    </tr>\n",
       "    <tr>\n",
       "      <th>3</th>\n",
       "      <td>14.37</td>\n",
       "      <td>1.95</td>\n",
       "      <td>2.50</td>\n",
       "      <td>16.8</td>\n",
       "      <td>113.0</td>\n",
       "      <td>3.85</td>\n",
       "      <td>3.49</td>\n",
       "      <td>0.24</td>\n",
       "      <td>2.18</td>\n",
       "      <td>7.80</td>\n",
       "      <td>0.86</td>\n",
       "      <td>3.45</td>\n",
       "      <td>1480.0</td>\n",
       "      <td>0</td>\n",
       "    </tr>\n",
       "    <tr>\n",
       "      <th>4</th>\n",
       "      <td>13.24</td>\n",
       "      <td>2.59</td>\n",
       "      <td>2.87</td>\n",
       "      <td>21.0</td>\n",
       "      <td>118.0</td>\n",
       "      <td>2.80</td>\n",
       "      <td>2.69</td>\n",
       "      <td>0.39</td>\n",
       "      <td>1.82</td>\n",
       "      <td>4.32</td>\n",
       "      <td>1.04</td>\n",
       "      <td>2.93</td>\n",
       "      <td>735.0</td>\n",
       "      <td>0</td>\n",
       "    </tr>\n",
       "  </tbody>\n",
       "</table>\n",
       "</div>"
      ],
      "text/plain": [
       "   alcohol  malic_acid   ash  alcalinity_of_ash  magnesium  total_phenols  \\\n",
       "0    14.23        1.71  2.43               15.6      127.0           2.80   \n",
       "1    13.20        1.78  2.14               11.2      100.0           2.65   \n",
       "2    13.16        2.36  2.67               18.6      101.0           2.80   \n",
       "3    14.37        1.95  2.50               16.8      113.0           3.85   \n",
       "4    13.24        2.59  2.87               21.0      118.0           2.80   \n",
       "\n",
       "   flavanoids  nonflavanoid_phenols  proanthocyanins  color_intensity   hue  \\\n",
       "0        3.06                  0.28             2.29             5.64  1.04   \n",
       "1        2.76                  0.26             1.28             4.38  1.05   \n",
       "2        3.24                  0.30             2.81             5.68  1.03   \n",
       "3        3.49                  0.24             2.18             7.80  0.86   \n",
       "4        2.69                  0.39             1.82             4.32  1.04   \n",
       "\n",
       "   od280/od315_of_diluted_wines  proline  target  \n",
       "0                          3.92   1065.0       0  \n",
       "1                          3.40   1050.0       0  \n",
       "2                          3.17   1185.0       0  \n",
       "3                          3.45   1480.0       0  \n",
       "4                          2.93    735.0       0  "
      ]
     },
     "execution_count": 14,
     "metadata": {},
     "output_type": "execute_result"
    }
   ],
   "source": [
    "# Cargar el dataset\n",
    "data = load_wine()\n",
    "X = data.data\n",
    "y = data.target\n",
    "\n",
    "# Mostrar la estructura del dataset\n",
    "df_wine = pd.DataFrame(data.data, columns=data.feature_names)\n",
    "df_wine['target'] = data.target\n",
    "df_wine.head()"
   ]
  },
  {
   "cell_type": "code",
   "execution_count": 15,
   "id": "SCfpnS0xF2eR",
   "metadata": {
    "colab": {
     "base_uri": "https://localhost:8080/",
     "height": 209
    },
    "id": "SCfpnS0xF2eR",
    "outputId": "6c3f8176-cdf0-4db6-cb61-3c91099b7867"
   },
   "outputs": [
    {
     "data": {
      "text/plain": [
       "1    71\n",
       "0    59\n",
       "2    48\n",
       "Name: target, dtype: int64"
      ]
     },
     "execution_count": 15,
     "metadata": {},
     "output_type": "execute_result"
    }
   ],
   "source": [
    "df_wine['target'].value_counts()"
   ]
  },
  {
   "cell_type": "markdown",
   "id": "5830b5cf",
   "metadata": {
    "id": "5830b5cf"
   },
   "source": [
    "### Resustitución\n",
    "\n",
    "La Resustitución es una técnica simple en la que usamos todos los datos disponibles tanto para el entrenamiento como para las pruebas. Aunque no es recomendable (debido a la posibilidad de sobreajuste), es importante comprenderla como punto de partida."
   ]
  },
  {
   "cell_type": "code",
   "execution_count": 16,
   "id": "f81794de",
   "metadata": {
    "colab": {
     "base_uri": "https://localhost:8080/"
    },
    "id": "f81794de",
    "outputId": "11e71f70-2c0c-4985-a586-5245612a7e11"
   },
   "outputs": [
    {
     "name": "stdout",
     "output_type": "stream",
     "text": [
      "accuracy utilizando Resustitución: 1.0000\n"
     ]
    }
   ],
   "source": [
    "# Técnica de Resustitución\n",
    "# Entrenamos y evaluamos con el mismo conjunto de datos\n",
    "model = DecisionTreeClassifier(random_state=0)\n",
    "model.fit(X, y)\n",
    "accuracy_r = model.score(X, y)\n",
    "\n",
    "print(f\"accuracy utilizando Resustitución: {accuracy_r:.4f}\")\n"
   ]
  },
  {
   "cell_type": "markdown",
   "id": "7cb4877d",
   "metadata": {
    "id": "7cb4877d"
   },
   "source": [
    "### Partición (Hold-Out)\n",
    "En la técnica de Partición o Hold-Out, dividimos el conjunto de datos en dos subconjuntos: uno para el entrenamiento y otro para las pruebas. Esta es una de las técnicas más comunes."
   ]
  },
  {
   "cell_type": "code",
   "execution_count": 17,
   "id": "2058439d",
   "metadata": {
    "colab": {
     "base_uri": "https://localhost:8080/"
    },
    "id": "2058439d",
    "outputId": "e7cc9460-df97-41f9-9f20-838d8d778b94"
   },
   "outputs": [
    {
     "name": "stdout",
     "output_type": "stream",
     "text": [
      "accuracy utilizando Partición (Hold-Out): 0.9444\n"
     ]
    }
   ],
   "source": [
    "# Dividimos los datos en entrenamiento y test\n",
    "X_train, X_test, y_train, y_test = train_test_split(X, y, test_size=0.20, random_state=42)\n",
    "\n",
    "# Entrenamos el modelo con el conjunto de entrenamiento\n",
    "model = DecisionTreeClassifier(random_state=0)\n",
    "model.fit(X_train, y_train)\n",
    "\n",
    "# Evaluamos el modelo con el conjunto de test\n",
    "accuracy_p = model.score(X_test, y_test)\n",
    "\n",
    "print(f\"accuracy utilizando Partición (Hold-Out): {accuracy_p:.4f}\")\n"
   ]
  },
  {
   "cell_type": "markdown",
   "id": "772d9fbe",
   "metadata": {
    "id": "772d9fbe"
   },
   "source": [
    "### Validación Cruzada (Cross Validation)\n",
    "La Validación Cruzada es una técnica más robusta que divide los datos en múltiples bloques. En cada iteración, uno de los bloques se utiliza como test y el resto para el entrenamiento. Esto reduce el riesgo de sobreajuste y da una evaluación más estable del modelo"
   ]
  },
  {
   "cell_type": "markdown",
   "id": "6c6efd27",
   "metadata": {
    "id": "6c6efd27"
   },
   "source": [
    "#### KFold Cross Validation"
   ]
  },
  {
   "cell_type": "markdown",
   "id": "4cd1d9fd",
   "metadata": {
    "id": "4cd1d9fd"
   },
   "source": [
    "El conjunto de entrenamiento se divide en k conjuntos más pequeños. Se sigue el siguiente procedimiento para cada uno de los k “pliegues”:\n",
    "\n",
    "Un modelo se entrena usando **k-1** de los pliegues como datos de entrenamiento;el modelo resultante se valida con la parte restante de los datos (es decir, se utiliza como conjunto de pruebas para calcular una medida de rendimiento como la precisión).\n",
    "\n",
    "La medida de rendimiento informada por la validación cruzada k veces es entonces el promedio de los valores calculados en el bucle."
   ]
  },
  {
   "cell_type": "markdown",
   "id": "93db811a",
   "metadata": {
    "id": "93db811a"
   },
   "source": [
    "![CV.jpg](data:image/jpeg;base64,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)"
   ]
  },
  {
   "cell_type": "code",
   "execution_count": 18,
   "id": "88e75aca",
   "metadata": {
    "colab": {
     "base_uri": "https://localhost:8080/"
    },
    "id": "88e75aca",
    "outputId": "1a0371f2-180f-4442-a207-5262350e02a6"
   },
   "outputs": [
    {
     "name": "stdout",
     "output_type": "stream",
     "text": [
      "accuracy utilizando Validación Cruzada: 0.8368\n"
     ]
    }
   ],
   "source": [
    "# Usamos 5 bloques (K-Fold Cross Validation)\n",
    "model = DecisionTreeClassifier(random_state=0)\n",
    "kf = KFold(n_splits=5)\n",
    "scores = cross_val_score(model, X, y, cv=kf)\n",
    "\n",
    "print(f\"accuracy utilizando Validación Cruzada: {scores.mean():.4f}\")\n",
    "\n"
   ]
  },
  {
   "cell_type": "markdown",
   "id": "e2aa39ab",
   "metadata": {
    "id": "e2aa39ab"
   },
   "source": [
    "#### K-Fold Cross Validation con Shuffle"
   ]
  },
  {
   "cell_type": "markdown",
   "id": "278ca2d7",
   "metadata": {
    "id": "278ca2d7"
   },
   "source": [
    "Es una variación de la validación cruzada básica donde los datos se barajan (shuffle) antes de dividirse en k pliegues. Este método asegura que cada pliegue sea más representativo del conjunto completo y es especialmente útil cuando los datos pueden tener un orden inherente.\n",
    "\n",
    "El iterador ShuffleSplit generará un número definido por el usuario de divisiones independientes de conjuntos de datos de prueba/entrenamiento. Las muestras primero se mezclan y luego se dividen en un par de conjuntos de entrenamiento y de prueba.\n",
    "\n",
    "Es posible controlar la aleatoriedad para la reproducibilidad de los resultados sembrando explícitamente el generador de números pseudoaleatorios random_state."
   ]
  },
  {
   "cell_type": "code",
   "execution_count": 19,
   "id": "daa65b82",
   "metadata": {
    "colab": {
     "base_uri": "https://localhost:8080/"
    },
    "id": "daa65b82",
    "outputId": "dbde0886-b1d4-4c91-8feb-9a98268b6a54"
   },
   "outputs": [
    {
     "name": "stdout",
     "output_type": "stream",
     "text": [
      "accuracy utilizando Validación Cruzada con Shuffle: 0.9778\n"
     ]
    }
   ],
   "source": [
    "model = DecisionTreeClassifier(random_state=0)\n",
    "\n",
    "cvs = ShuffleSplit(n_splits=5,random_state=0)\n",
    "\n",
    "scores_s= cross_val_score(model, X, y, cv=cvs)\n",
    "\n",
    "\n",
    "print(f\"accuracy utilizando Validación Cruzada con Shuffle: {scores_s.mean():.4f}\")"
   ]
  },
  {
   "cell_type": "markdown",
   "id": "3c721e13",
   "metadata": {
    "id": "3c721e13"
   },
   "source": [
    "#### Stratified k-fold"
   ]
  },
  {
   "cell_type": "markdown",
   "id": "682b6e03",
   "metadata": {
    "id": "682b6e03"
   },
   "source": [
    "StratifiedKFold es una variación de k-fold que devuelve pliegues estratificados: cada conjunto contiene aproximadamente el mismo porcentaje de muestras de cada clase objetivo que el conjunto completo.\n"
   ]
  },
  {
   "cell_type": "code",
   "execution_count": 20,
   "id": "46cd653f",
   "metadata": {
    "colab": {
     "base_uri": "https://localhost:8080/"
    },
    "id": "46cd653f",
    "outputId": "d59624ad-224c-494c-de87-aae42080e2ff"
   },
   "outputs": [
    {
     "name": "stdout",
     "output_type": "stream",
     "text": [
      "accuracy utilizando StratifiedKFold: 0.9778\n"
     ]
    }
   ],
   "source": [
    "model = DecisionTreeClassifier(random_state=0)\n",
    "\n",
    "skf = StratifiedKFold(n_splits=5)\n",
    "\n",
    "\n",
    "scores_skf= cross_val_score(model, X, y, cv=skf)\n",
    "\n",
    "\n",
    "print(f\"accuracy utilizando StratifiedKFold: {scores_s.mean():.4f}\")"
   ]
  },
  {
   "cell_type": "markdown",
   "id": "92e7130f",
   "metadata": {
    "id": "92e7130f"
   },
   "source": [
    "#### Exclusión Individual (Leave One Out)\n",
    "La técnica de Exclusión Individual (Leave-One-Out) es un caso extremo de validación cruzada. Cada instancia del conjunto de datos se usa una vez como conjunto de test, mientras que el resto se usa para el entrenamiento. Este enfoque es más costoso computacionalmente, pero se utiliza para datasets pequeños."
   ]
  },
  {
   "cell_type": "code",
   "execution_count": 21,
   "id": "63ecb918",
   "metadata": {
    "colab": {
     "base_uri": "https://localhost:8080/"
    },
    "id": "63ecb918",
    "outputId": "8568924a-b775-48b3-b680-cc94e2a6c5aa"
   },
   "outputs": [
    {
     "name": "stdout",
     "output_type": "stream",
     "text": [
      "accuracy utilizando Exclusión Individual (Leave-One-Out): 0.8820\n"
     ]
    }
   ],
   "source": [
    "# Técnica de Exclusión Individual (Leave One Out)\n",
    "loo = LeaveOneOut()\n",
    "model = DecisionTreeClassifier(random_state=0)\n",
    "\n",
    "# Cross-validation usando Leave-One-Out\n",
    "scores_l = cross_val_score(model, X, y, cv=loo)\n",
    "\n",
    "print(f\"accuracy utilizando Exclusión Individual (Leave-One-Out): {scores_l.mean():.4f}\")\n"
   ]
  },
  {
   "cell_type": "markdown",
   "id": "fd2e9035",
   "metadata": {
    "id": "fd2e9035"
   },
   "source": [
    "####  Leave P Out (LPO)"
   ]
  },
  {
   "cell_type": "markdown",
   "id": "2374f7ca",
   "metadata": {
    "id": "2374f7ca"
   },
   "source": [
    "LeavePOut es muy similar a LeaveOneOut ya que crea todos los conjuntos de entrenamiento/prueba posibles eliminando\n",
    "muestras del juego completo.\n",
    "\n"
   ]
  },
  {
   "cell_type": "code",
   "execution_count": 22,
   "id": "c75ffcdf",
   "metadata": {
    "colab": {
     "base_uri": "https://localhost:8080/"
    },
    "id": "c75ffcdf",
    "outputId": "a906ad58-064f-4b90-8321-b0652f62f8bb"
   },
   "outputs": [
    {
     "name": "stdout",
     "output_type": "stream",
     "text": [
      "accuracy utilizando(Leave-P-Out): 0.8845\n"
     ]
    }
   ],
   "source": [
    "lpo = LeavePOut(p=2)\n",
    "model = DecisionTreeClassifier(random_state=0)\n",
    "\n",
    "scores_p = cross_val_score(model, X, y, cv=lpo)\n",
    "\n",
    "print(f\"accuracy utilizando(Leave-P-Out): {scores_p.mean():.4f}\")"
   ]
  }
 ],
 "metadata": {
  "colab": {
   "provenance": []
  },
  "kernelspec": {
   "display_name": "Python 3 (ipykernel)",
   "language": "python",
   "name": "python3"
  },
  "language_info": {
   "codemirror_mode": {
    "name": "ipython",
    "version": 3
   },
   "file_extension": ".py",
   "mimetype": "text/x-python",
   "name": "python",
   "nbconvert_exporter": "python",
   "pygments_lexer": "ipython3",
   "version": "3.11.4"
  }
 },
 "nbformat": 4,
 "nbformat_minor": 5
}
